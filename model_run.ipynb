{
 "cells": [
  {
   "cell_type": "code",
   "execution_count": 10,
   "metadata": {},
   "outputs": [],
   "source": [
    "from tensorflow.keras.models import load_model\n",
    "from tensorflow.keras.preprocessing import image\n",
    "import numpy as np\n",
    "from PIL import Image\n",
    "import requests\n",
    "from io import BytesIO\n",
    "\n",
    "model = load_model('model\\Xception-MangoDiseaseClassifier.h5')"
   ]
  },
  {
   "cell_type": "code",
   "execution_count": 19,
   "metadata": {},
   "outputs": [
    {
     "name": "stdout",
     "output_type": "stream",
     "text": [
      "1/1 [==============================] - 0s 26ms/step\n",
      "Predicted class: [5]\n",
      "Predicted class label: Healthy\n"
     ]
    }
   ],
   "source": [
    "def predict_image(img,model):\n",
    "    img = img.resize((256, 256))\n",
    "    img_array = image.img_to_array(img)\n",
    "    img_array = np.expand_dims(img_array, axis=0)  # Create a batch\n",
    "    img_array /= 255.  # Normalize to [0,1]\n",
    "\n",
    "    predictions = model.predict(img_array)\n",
    "\n",
    "\n",
    "    predicted_class = np.argmax(predictions, axis=1)\n",
    "    print(f'Predicted class: {predicted_class}')\n",
    "\n",
    "    class_labels = ['Anthracnose', 'Bacterial Canker', 'Cutting Weevil', 'Die Back', 'Gall Midge', 'Healthy', 'Powdery Mildew', 'Sooty Mould']  # Example class labels\n",
    "    print(f'Predicted class label: {class_labels[predicted_class[0]]}')\n",
    "\n",
    "\n",
    "img_healthy = Image.open('test/Healthy.jpg')\n",
    "predict_image(img_healthy,model)"
   ]
  },
  {
   "cell_type": "code",
   "execution_count": 20,
   "metadata": {},
   "outputs": [
    {
     "name": "stdout",
     "output_type": "stream",
     "text": [
      "1/1 [==============================] - 0s 41ms/step\n",
      "Predicted class: [5]\n",
      "Predicted class label: Healthy\n"
     ]
    }
   ],
   "source": [
    "img_healthy2 = Image.open('test/healthy2.jpg')\n",
    "predict_image(img_healthy2,model)"
   ]
  },
  {
   "cell_type": "code",
   "execution_count": 21,
   "metadata": {},
   "outputs": [
    {
     "name": "stdout",
     "output_type": "stream",
     "text": [
      "1/1 [==============================] - 0s 22ms/step\n",
      "Predicted class: [1]\n",
      "Predicted class label: Bacterial Canker\n"
     ]
    }
   ],
   "source": [
    "img_Anthracnose = Image.open('test\\Anthracnose.jpg')\n",
    "predict_image(img_Anthracnose,model)"
   ]
  },
  {
   "cell_type": "code",
   "execution_count": 23,
   "metadata": {},
   "outputs": [
    {
     "name": "stdout",
     "output_type": "stream",
     "text": [
      "1/1 [==============================] - 0s 25ms/step\n",
      "Predicted class: [4]\n",
      "Predicted class label: Gall Midge\n"
     ]
    }
   ],
   "source": [
    "img_Anthracnose2 = Image.open('test\\Anthracnose2.jpeg')\n",
    "predict_image(img_Anthracnose2,model)"
   ]
  },
  {
   "cell_type": "code",
   "execution_count": 24,
   "metadata": {},
   "outputs": [
    {
     "name": "stdout",
     "output_type": "stream",
     "text": [
      "1/1 [==============================] - 0s 36ms/step\n",
      "Predicted class: [4]\n",
      "Predicted class label: Gall Midge\n"
     ]
    }
   ],
   "source": [
    "Bacterial = Image.open('test\\Bacterial Canker1.jpg')\n",
    "predict_image(Bacterial,model)"
   ]
  },
  {
   "cell_type": "code",
   "execution_count": null,
   "metadata": {},
   "outputs": [],
   "source": []
  }
 ],
 "metadata": {
  "kernelspec": {
   "display_name": "Python 3",
   "language": "python",
   "name": "python3"
  },
  "language_info": {
   "codemirror_mode": {
    "name": "ipython",
    "version": 3
   },
   "file_extension": ".py",
   "mimetype": "text/x-python",
   "name": "python",
   "nbconvert_exporter": "python",
   "pygments_lexer": "ipython3",
   "version": "3.10.0"
  }
 },
 "nbformat": 4,
 "nbformat_minor": 2
}
